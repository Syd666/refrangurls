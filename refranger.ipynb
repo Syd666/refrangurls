import re 
url = "https://www.google.com/"

dots = '\.'
http = r'http[s]{0,1}'
slashes = "\/"

refrangurl = re.sub(dots, '[.]', url)
print(refrangurl)
refrangurl = re.sub(http, 'hxxp', refrangurl)
print(refrangurl)
refrangurl = re.sub(slashes, '\/', refrangurl)
print(refrangurl)
